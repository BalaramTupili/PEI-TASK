{
 "cells": [
  {
   "cell_type": "markdown",
   "metadata": {
    "application/vnd.databricks.v1+cell": {
     "cellMetadata": {
      "byteLimit": 2048000,
      "rowLimit": 10000
     },
     "inputWidgets": {},
     "nuid": "d57b0564-ad35-4130-b28d-3d0a2d804fe8",
     "showTitle": false,
     "title": ""
    }
   },
   "source": [
    "# PEI-Task"
   ]
  },
  {
   "cell_type": "code",
   "execution_count": null,
   "metadata": {
    "application/vnd.databricks.v1+cell": {
     "cellMetadata": {
      "byteLimit": 2048000,
      "rowLimit": 10000
     },
     "inputWidgets": {},
     "nuid": "561552eb-e82c-4ca6-ac9f-0c0c81d9d278",
     "showTitle": false,
     "title": ""
    }
   },
   "outputs": [
    {
     "data": {
      "text/html": [
       "<style scoped>\n",
       "  .ansiout {\n",
       "    display: block;\n",
       "    unicode-bidi: embed;\n",
       "    white-space: pre-wrap;\n",
       "    word-wrap: break-word;\n",
       "    word-break: break-all;\n",
       "    font-family: \"Menlo\", \"Monaco\", \"Consolas\", \"Ubuntu Mono\", \"Source Code Pro\", monospace;\n",
       "    font-size: 13px;\n",
       "    color: #555;\n",
       "    margin-left: 4px;\n",
       "    line-height: 19px;\n",
       "  }\n",
       "</style>"
      ]
     },
     "metadata": {
      "application/vnd.databricks.v1+output": {
       "arguments": {},
       "data": "",
       "errorSummary": "",
       "errorTraceType": null,
       "metadata": {},
       "type": "ipynbError"
      }
     },
     "output_type": "display_data"
    }
   ],
   "source": [
    "import pyspark\n",
    "from pyspark.sql.types import LongType, StringType, DateType, DoubleType\n",
    "from pyspark.sql.functions import udf, to_date, col, to_timestamp, regexp_replace\n",
    "from pyspark.sql import SparkSession\n",
    "import re\n",
    "\n",
    "spark = SparkSession.builder.appName(\"PEITask\").getOrCreate()\n",
    "\n",
    "# Install Maven library \"com.crealytics:spark-excel_2.12:3.3.2_0.19.0\" for spark 3.3"
   ]
  },
  {
   "cell_type": "markdown",
   "metadata": {
    "application/vnd.databricks.v1+cell": {
     "cellMetadata": {
      "byteLimit": 2048000,
      "rowLimit": 10000
     },
     "inputWidgets": {},
     "nuid": "9c5d3a67-f66c-4927-ac77-301bb11832c0",
     "showTitle": false,
     "title": ""
    }
   },
   "source": [
    "### Common functions"
   ]
  },
  {
   "cell_type": "code",
   "execution_count": null,
   "metadata": {
    "application/vnd.databricks.v1+cell": {
     "cellMetadata": {
      "byteLimit": 2048000,
      "rowLimit": 10000
     },
     "inputWidgets": {},
     "nuid": "6f5699cd-1bdf-4828-be90-fae990686b29",
     "showTitle": false,
     "title": ""
    }
   },
   "outputs": [],
   "source": [
    "# Function to remove spaces and hyphen from column names\n",
    "def clean_column_names(df):\n",
    "    for col_name in df.columns:\n",
    "        if ' ' in col_name or '-' in col_name:\n",
    "            df = df.withColumnRenamed(col_name, col_name.strip().replace(' ', '_').replace('-', '_'))\n",
    "    return df"
   ]
  },
  {
   "cell_type": "code",
   "execution_count": null,
   "metadata": {
    "application/vnd.databricks.v1+cell": {
     "cellMetadata": {
      "byteLimit": 2048000,
      "rowLimit": 10000
     },
     "inputWidgets": {},
     "nuid": "e8a74191-26d6-45e6-9cfc-898ce2cb19d9",
     "showTitle": false,
     "title": ""
    }
   },
   "outputs": [],
   "source": [
    "# Test clean_column_names function for given dataframe\n",
    "def test_clean_column_names(df, expected_columns, isPositivecase=True):\n",
    "    if isPositivecase==True:\n",
    "        assert df.columns == expected_columns, \"Columns are not formatted correctly\"\n",
    "    else:\n",
    "        assert df.columns != expected_columns, \"Columns are not formatted correctly for negative case\""
   ]
  },
  {
   "cell_type": "code",
   "execution_count": null,
   "metadata": {
    "application/vnd.databricks.v1+cell": {
     "cellMetadata": {
      "byteLimit": 2048000,
      "rowLimit": 10000
     },
     "inputWidgets": {},
     "nuid": "346b17d6-d541-4a74-a70c-fe46c829353c",
     "showTitle": false,
     "title": ""
    }
   },
   "outputs": [],
   "source": [
    "# Test given column are has expected data type in dataframe\n",
    "def test_column_datatype(df_order, expected_schema, isPositivecase=True):\n",
    "\n",
    "    for column, expected_dtype in expected_schema.items():\n",
    "        if isPositivecase==True:\n",
    "            assert df_order.schema[column].dataType == expected_dtype, f\"Failed to cast {column} column to {expected_dtype}\"\n",
    "        else:\n",
    "            assert df_order.schema[column].dataType != expected_dtype, f\"Failed to cast {column} column to {expected_dtype} for negative case\""
   ]
  },
  {
   "cell_type": "markdown",
   "metadata": {
    "application/vnd.databricks.v1+cell": {
     "cellMetadata": {
      "byteLimit": 2048000,
      "rowLimit": 10000
     },
     "inputWidgets": {},
     "nuid": "5a22181c-d021-423f-89b7-290da987ebbd",
     "showTitle": false,
     "title": ""
    }
   },
   "source": [
    "#Order"
   ]
  },
  {
   "cell_type": "code",
   "execution_count": null,
   "metadata": {
    "application/vnd.databricks.v1+cell": {
     "cellMetadata": {
      "byteLimit": 2048000,
      "rowLimit": 10000
     },
     "inputWidgets": {},
     "nuid": "ec053808-172d-4ae9-af80-8c95027a81ed",
     "showTitle": false,
     "title": ""
    }
   },
   "outputs": [
    {
     "name": "stdout",
     "output_type": "stream",
     "text": [
      "+-----------+--------+----------+--------------+-------+---------------+-------+--------+------+----------+--------------+\n",
      "|Customer_ID|Discount|Order_Date|Order_ID      |Price  |Product_ID     |Profit |Quantity|Row_ID|Ship_Date |Ship_Mode     |\n",
      "+-----------+--------+----------+--------------+-------+---------------+-------+--------+------+----------+--------------+\n",
      "|JK-15370   |0.3     |2016-08-21|CA-2016-122581|573.174|FUR-CH-10002961|63.686 |7       |1     |2016-08-25|Standard Class|\n",
      "|BD-11320   |0.0     |2017-09-23|CA-2017-117485|291.96 |TEC-AC-10004659|102.186|4       |2     |2017-09-29|Standard Class|\n",
      "|LB-16795   |0.7     |2016-10-06|US-2016-157490|17.0   |OFF-BI-10002824|-14.92 |4       |3     |2016-10-07|First Class   |\n",
      "|KB-16315   |0.2     |2015-07-02|CA-2015-111703|15.552 |OFF-PA-10003349|5.6376 |3       |4     |2015-07-09|Standard Class|\n",
      "|DO-13435   |0.2     |2014-10-03|CA-2014-108903|142.488|TEC-AC-10003023|-3.0   |3       |5     |2014-10-03|Same Day      |\n",
      "|CB-12025   |0.0     |2016-11-27|CA-2016-117583|79.95  |OFF-BI-10004233|38.376 |5       |6     |2016-11-30|First Class   |\n",
      "|SM-20005   |0.0     |2014-12-10|CA-2014-148488|11.0   |OFF-PA-10004470|5.2256 |2       |7     |2014-12-15|Standard Class|\n",
      "|RD-19480   |0.0     |2016-12-01|CA-2016-136434|17.31  |FUR-FU-10001196|5.193  |3       |8     |2016-12-07|Standard Class|\n",
      "|JM-16195   |0.0     |2014-04-30|CA-2014-160094|826.0  |OFF-ST-10000585|214.0  |5       |9     |2014-05-02|First Class   |\n",
      "|SC-20230   |0.0     |2017-08-03|CA-2017-141747|16.06  |OFF-ST-10003996|4.1756 |1       |10    |2017-08-08|Second Class  |\n",
      "|BO-11350   |0.2     |2017-05-03|CA-2017-132199|8.0    |OFF-FA-10002280|2.8    |2       |11    |2017-05-08|Standard Class|\n",
      "|BD-11320   |0.2     |2017-11-27|CA-2017-107125|117.488|OFF-BI-10001989|41.1208|7       |12    |2017-12-02|Standard Class|\n",
      "|AB-10105   |0.7     |2017-09-19|CA-2017-153822|18.18  |OFF-BI-10001460|-13.938|4       |13    |2017-09-25|Standard Class|\n",
      "|NP-18670   |0.0     |2017-10-12|CA-2017-150091|45.0   |TEC-AC-10002167|4.0    |3       |14    |2017-10-16|Standard Class|\n",
      "|KD-16270   |0.0     |2016-09-02|CA-2016-130407|39.98  |FUR-FU-10001967|9.995  |2       |15    |2016-09-06|Standard Class|\n",
      "|BF-11005   |0.6     |2016-07-28|US-2016-105452|302.0  |FUR-FU-10003806|-378.4 |5       |16    |2016-08-01|Standard Class|\n",
      "|LE-16810   |0.8     |2014-05-27|US-2014-117058|17.46  |OFF-BI-10004139|-30.555|6       |17    |2014-05-30|First Class   |\n",
      "|TT-21070   |0.0     |2017-11-13|CA-2017-122490|344.91 |OFF-ST-10000991|10.3473|3       |18    |2017-11-18|Standard Class|\n",
      "|CA-12055   |0.2     |2016-11-22|US-2016-164945|134.272|OFF-BI-10001524|46.9952|8       |19    |2016-11-27|Standard Class|\n",
      "|GD-14590   |0.0     |2014-05-05|CA-2014-111934|11.88  |OFF-BI-10004364|5.0    |2       |20    |2014-05-07|First Class   |\n",
      "+-----------+--------+----------+--------------+-------+---------------+-------+--------+------+----------+--------------+\n",
      "only showing top 20 rows\n",
      "\n"
     ]
    }
   ],
   "source": [
    "\n",
    "df_order = spark.read.option(\"multiline\",\"true\").json(\"dbfs:/FileStore/PEI_Files/Order.json\")\n",
    "\n",
    "df_order = clean_column_names(df_order)\n",
    "\n",
    "\n",
    "# remove special chars from Price column\n",
    "df_order = df_order.withColumn(\"Price\", regexp_replace(\"Price\", \"[^0-9.]\", \"\").cast(DoubleType()))\n",
    "\n",
    "df_order = df_order.withColumn(\"Order_Date\", to_date(to_timestamp(col(\"Order_Date\"), \"d/M/yyyy\")))\n",
    "df_order = df_order.withColumn(\"Ship_Date\", to_date(to_timestamp(col(\"Ship_Date\"), \"d/M/yyyy\")))\n",
    "df_order = df_order.withColumn(\"Discount\", col(\"Discount\").cast(DoubleType()))\n",
    "df_order = df_order.withColumn(\"Profit\", col(\"Profit\").cast(DoubleType()))\n",
    "df_order = df_order.withColumn(\"Quantity\", col(\"Quantity\").cast(LongType()))\n",
    "df_order = df_order.withColumn(\"Row_ID\", col(\"Row_ID\").cast(LongType()))\n",
    "\n",
    "\n",
    "df_order.show(truncate=False)"
   ]
  },
  {
   "cell_type": "markdown",
   "metadata": {
    "application/vnd.databricks.v1+cell": {
     "cellMetadata": {
      "byteLimit": 2048000,
      "rowLimit": 10000
     },
     "inputWidgets": {},
     "nuid": "6f6ad939-eded-4947-a6fd-50f60be2a438",
     "showTitle": false,
     "title": ""
    }
   },
   "source": [
    "Test Cases "
   ]
  },
  {
   "cell_type": "code",
   "execution_count": null,
   "metadata": {
    "application/vnd.databricks.v1+cell": {
     "cellMetadata": {
      "byteLimit": 2048000,
      "rowLimit": 10000
     },
     "inputWidgets": {},
     "nuid": "813b6588-e6a8-4e82-8e77-1373ec19b9a9",
     "showTitle": false,
     "title": ""
    }
   },
   "outputs": [],
   "source": [
    "# Test 1: clean_column_names \n",
    "expected_columns = ['Customer_ID', 'Discount', 'Order_Date', 'Order_ID', 'Price', 'Product_ID', 'Profit',\n",
    "                    'Quantity', 'Row_ID', 'Ship_Date', 'Ship_Mode']\n",
    "test_clean_column_names(df_order, expected_columns)\n",
    "\n",
    "# Test 1: clean_column_names negitive\n",
    "expected_columns = ['Customer ID', 'Discount', 'Order-Date', 'Order ID', 'Price', 'Product ID', 'Profit',\n",
    "                    'Quantity', 'Row-ID', 'Ship_Date', 'Ship_Mode']\n",
    "test_clean_column_names(df_order, expected_columns, isPositivecase=False)\n",
    "\n",
    "# Test 2: Cast data types\n",
    "expected_schema = {\n",
    "        \"Price\": DoubleType(),\n",
    "        \"Discount\": DoubleType(),\n",
    "        \"Profit\": DoubleType(),\n",
    "        \"Quantity\": LongType(),\n",
    "        \"Row_ID\": LongType(),\n",
    "        \"Order_Date\": DateType(),\n",
    "        \"Ship_Date\": DateType()\n",
    "    }\n",
    "test_column_datatype(df_order, expected_schema)\n",
    "\n",
    "# Test 2: Cast data types negitive\n",
    "expected_schema = {#wrong data type for Columns\n",
    "        \"Price\": LongType(),\n",
    "        \"Discount\": LongType()\n",
    "    }\n",
    "test_column_datatype(df_order, expected_schema, isPositivecase=False)"
   ]
  },
  {
   "cell_type": "markdown",
   "metadata": {
    "application/vnd.databricks.v1+cell": {
     "cellMetadata": {
      "byteLimit": 2048000,
      "rowLimit": 10000
     },
     "inputWidgets": {},
     "nuid": "5023b7f3-b9dc-4b59-88da-6b24bf87c54e",
     "showTitle": false,
     "title": ""
    }
   },
   "source": [
    "#Customer"
   ]
  },
  {
   "cell_type": "code",
   "execution_count": null,
   "metadata": {
    "application/vnd.databricks.v1+cell": {
     "cellMetadata": {
      "byteLimit": 2048000,
      "rowLimit": 10000
     },
     "inputWidgets": {},
     "nuid": "d381769b-64d1-4140-8668-0567b995ac78",
     "showTitle": false,
     "title": ""
    }
   },
   "outputs": [],
   "source": [
    "# Formats the given customer name by removing non-alphabetic characters\n",
    "def format_customer_name(customer_name):\n",
    "    if not customer_name:\n",
    "        return None\n",
    "\n",
    "    # Remove all non-alphabetic characters between two lowercase alphabets\n",
    "    cleaned_name = re.sub(r'([a-z])[^a-zA-Z]+([a-z])', r'\\1\\2', customer_name)\n",
    "    \n",
    "    # Remove all non-alphabetic characters between uppercase and lowercase alphabets\n",
    "    cleaned_name = re.sub(r'([A-Z])[^a-zA-Z]+([a-z])', r'\\1\\2', cleaned_name)\n",
    "\n",
    "    # Remove all non-alphabetic characters between a lowercase and an uppercase alphabet and add one white space in between\n",
    "    cleaned_name = re.sub(r'([a-z])([^a-zA-Z]+)([A-Z])', r'\\1 \\3', cleaned_name)\n",
    "\n",
    "    # Remove all leading non-alphabetic characters\n",
    "    cleaned_name = re.sub(r'^[^a-zA-Z]+|[^a-zA-Z]+$', '', cleaned_name)\n",
    "\n",
    "    # Return None if the cleaned name is empty or contains only whitespace\n",
    "    if not cleaned_name.strip():\n",
    "        return None\n",
    "\n",
    "    return cleaned_name.strip()\n",
    "\n",
    "\n",
    "# Formats the given phone number by removing non-numeric characters\n",
    "def format_phone_number(phone_number):\n",
    "    if not phone_number:\n",
    "        return None\n",
    "\n",
    "    # Convert the phone number to a string\n",
    "    phone_number = str(phone_number)\n",
    "\n",
    "    # Remove everything after 'x' (extensions)\n",
    "    phone_number = phone_number.split('x')[0]\n",
    "\n",
    "    # Remove non-numeric characters from the phone number\n",
    "    numeric_phone_number = re.sub(r'\\D', '', phone_number)\n",
    "\n",
    "    # Remove leading '001'\n",
    "    numeric_phone_number = re.sub(r'^001', '', numeric_phone_number)\n",
    "\n",
    "    # Remove leading zeros\n",
    "    numeric_phone_number = numeric_phone_number.lstrip('0')\n",
    "\n",
    "    # Ensure the phone number is exactly 10 digits long\n",
    "    if len(numeric_phone_number) != 10:\n",
    "        return None\n",
    "\n",
    "    return numeric_phone_number"
   ]
  },
  {
   "cell_type": "code",
   "execution_count": null,
   "metadata": {
    "application/vnd.databricks.v1+cell": {
     "cellMetadata": {
      "byteLimit": 2048000,
      "rowLimit": 10000
     },
     "inputWidgets": {},
     "nuid": "eb38d955-b5a6-4dea-8592-5d0cd57f6c1a",
     "showTitle": false,
     "title": ""
    }
   },
   "outputs": [],
   "source": [
    "\n",
    "df_customer = spark.read.format(\"com.crealytics.spark.excel\").option(\"header\", \"true\").option(\"inferSchema\", \"true\").option(\"dataAddress\", \"Worksheet\").load(\"dbfs:/FileStore/PEI_Files/Customer.xlsx\")\n",
    "df_customer = clean_column_names(df_customer)\n",
    "\n",
    "\n",
    "# Call UDF to format Customer_Name\n",
    "format_customer_name_udf = udf(format_customer_name, StringType())\n",
    "df_customer = df_customer.withColumn(\"Customer_Name\", format_customer_name_udf(\"Customer_Name\"))\n",
    "\n",
    "# Call UDF to format Phone number\n",
    "format_phone_number_udf = udf(format_phone_number, StringType())\n",
    "df_customer = df_customer.withColumn(\"Phone\", format_phone_number_udf(\"Phone\"))"
   ]
  },
  {
   "cell_type": "markdown",
   "metadata": {
    "application/vnd.databricks.v1+cell": {
     "cellMetadata": {
      "byteLimit": 2048000,
      "rowLimit": 10000
     },
     "inputWidgets": {},
     "nuid": "ae60dfa6-68e3-41ae-bf79-24d5d756d56f",
     "showTitle": false,
     "title": ""
    }
   },
   "source": [
    "Test Cases"
   ]
  },
  {
   "cell_type": "code",
   "execution_count": null,
   "metadata": {
    "application/vnd.databricks.v1+cell": {
     "cellMetadata": {
      "byteLimit": 2048000,
      "rowLimit": 10000
     },
     "inputWidgets": {},
     "nuid": "1e72d9e9-6ce4-4206-a944-1415d0afedce",
     "showTitle": false,
     "title": ""
    }
   },
   "outputs": [
    {
     "name": "stdout",
     "output_type": "stream",
     "text": [
      "+-----------+------------------+-----------------------------+----------+----------------------------------------------------+-----------+-------------+----------------+------------+-----------+-------+\n",
      "|Customer_ID|Customer_Name     |email                        |Phone     |address                                             |Segment    |Country      |City            |State       |Postal_Code|Region |\n",
      "+-----------+------------------+-----------------------------+----------+----------------------------------------------------+-----------+-------------+----------------+------------+-----------+-------+\n",
      "|PW-19240   |Pierre Wener      |bettysullivan808@gmail.com   |4215800902|001 Jones Ridges Suite 338\\nJohnsonfort, FL 95462   |Consumer   |United States|Louisville      |Colorado    |80027.0    |West   |\n",
      "|GH-14410   |Gary Hansen       |austindyer948@gmail.com      |5424150246|00347 Murphy Unions\\nAshleyton, IA 29814            |Home Office|United States|Chicago         |Illinois    |60653.0    |Central|\n",
      "|KL-16555   |Kelly Lampkin     |clarencehughes280@gmail.com  |7185624866|007 Adams Lane Suite 176\\nEast Amyberg, IN 34581    |Corporate  |United States|Colorado Springs|Colorado    |80906.0    |West   |\n",
      "|AH-10075   |Adam Hart         |angelabryant256@gmail.com    |2651015569|01454 Christopher Turnpike\\nNorth Ryanstad, MI 36226|Corporate  |United States|Columbus        |Ohio        |43229.0    |East   |\n",
      "|PF-19165   |Philip Fox        |kristinereynolds576@gmail.com|4736452141|0158 Harris Ways Suite 085\\nEast Laceyside, SD 35649|Consumer   |United States|San Diego       |California  |92105.0    |West   |\n",
      "|SC-20680   |Steve Carroll     |jasoncontreras178@gmail.com  |5636474830|01630 Tammy Prairie\\nNorth Daniel, KS 26404         |Home Office|United States|Seattle         |Washington  |98105.0    |West   |\n",
      "|JR-15700   |Jocasta Rupert    |johncombs689@gmail.com       |null      |019 Emily Corner Apt. 810\\nRyantown, SC 37010       |Consumer   |United States|Jacksonville    |Florida     |32216.0    |South  |\n",
      "|AB-10105   |Adrian Barton     |daviddavis980@gmail.com      |null      |021 Katherine Mall\\nJameston, DC 24685              |Consumer   |United States|Phoenix         |Arizona     |85023.0    |West   |\n",
      "|PT-19090   |Pete Takahito     |mikaylaarnold666@gmail.com   |7866386820|0236 Lane Squares\\nPort Samantha, ME 15670          |Consumer   |United States|San Antonio     |Texas       |78207.0    |Central|\n",
      "|SG-20605   |Speros Goranitis  |brianjoyce110@gmail.com      |3528465094|02401 Angela Loop Apt. 678\\nPort John, ME 43448     |Consumer   |United States|Lafayette       |Indiana     |47905.0    |Central|\n",
      "|MH-17785   |Maya Herman       |christinasalas345@gmail.com  |7223765599|026 Colon Hill\\nNew Pedromouth, CA 18437            |Corporate  |United States|San Diego       |California  |92105.0    |West   |\n",
      "|KB-16240   |Karen Bern        |christopherperez199@gmail.com|8174090760|026 White Squares\\nRobertton, VA 78741              |Corporate  |United States|Odessa          |Texas       |79762.0    |Central|\n",
      "|JM-15535   |Jessica Myrick    |nicholasrussell869@gmail.com |9244847935|02785 Johnson Shore\\nSouth Nathan, KY 45544         |Consumer   |United States|New York City   |New York    |10035.0    |East   |\n",
      "|JH-16180   |Justin Hirsh      |kellymartinez374@gmail.com   |3617206500|0317 Parker Lane\\nPort Jennifer, OK 19258           |Consumer   |United States|Philadelphia    |Pennsylvania|19140.0    |East   |\n",
      "|CS-12400   |Christopher Schild|matthewwilliams637@gmail.com |1062295443|034 Lynch Squares\\nNorth Benjaminside, MH 42764     |Home Office|United States|Philadelphia    |Pennsylvania|19134.0    |East   |\n",
      "|LR-17035   |Lisa Ryan         |lorimorrow317@gmail.com      |5497075809|035 Cox View Suite 514\\nEast Carlton, VA 31206      |Corporate  |United States|Santa Clara     |California  |95051.0    |West   |\n",
      "|TW-21025   |Tamara Willingham |selenajones479@gmail.com     |2323700362|03551 Michael Shore\\nLake Barryview, MH 82312       |Home Office|United States|Charlottesville |Virginia    |22901.0    |South  |\n",
      "|SR-20425   |Sharelle Roach    |raymondpeck288@gmail.com     |8973627773|03958 Shane Lakes\\nNew Jessicatown, AR 78525        |Home Office|United States|Louisville      |Colorado    |80027.0    |West   |\n",
      "|AS-10285   |Alejandro Savely  |laceymercado410@gmail.com    |2167104605|04225 Lee Manor\\nCastroville, HI 72528              |Corporate  |United States|San Francisco   |California  |94109.0    |West   |\n",
      "|KB-16405   |Katrina Bavinger  |michaelwood756@gmail.com     |3478669161|0432 Jennifer Port Suite 897\\nJohnstad, AR 12201    |Home Office|United States|Apple Valley    |California  |92307.0    |West   |\n",
      "+-----------+------------------+-----------------------------+----------+----------------------------------------------------+-----------+-------------+----------------+------------+-----------+-------+\n",
      "only showing top 20 rows\n",
      "\n"
     ]
    }
   ],
   "source": [
    "# Test 1: clean_column_names\n",
    "expected_columns = ['Customer_ID', 'Customer_Name', 'email', 'Phone', 'address', 'Segment', 'Country', 'City', 'State', 'Postal_Code', 'Region']\n",
    "test_clean_column_names(df_customer, expected_columns)\n",
    "\n",
    "# Test 1: clean_column_names Negative\n",
    "expected_columns = ['Customer ID', 'Customer-Name', 'email', 'Phone', 'address', 'Segment', 'Country', 'City', 'State', 'Postal_Code', 'Region']\n",
    "test_clean_column_names(df_customer, expected_columns, isPositivecase=False)\n",
    "\n",
    "# columns data types are not tested as there is no data casting in customer dataframe\n",
    "\n",
    "df_customer.show(truncate=False)"
   ]
  },
  {
   "cell_type": "markdown",
   "metadata": {
    "application/vnd.databricks.v1+cell": {
     "cellMetadata": {
      "byteLimit": 2048000,
      "rowLimit": 10000
     },
     "inputWidgets": {},
     "nuid": "ac6f24de-cb3c-45cb-9492-7044821d3cc6",
     "showTitle": false,
     "title": ""
    }
   },
   "source": [
    "#Product"
   ]
  },
  {
   "cell_type": "code",
   "execution_count": null,
   "metadata": {
    "application/vnd.databricks.v1+cell": {
     "cellMetadata": {
      "byteLimit": 2048000,
      "rowLimit": 10000
     },
     "inputWidgets": {},
     "nuid": "6ae5f390-8b05-4b09-b472-516d403befab",
     "showTitle": false,
     "title": ""
    }
   },
   "outputs": [],
   "source": [
    "us_states = {\n",
    "    'alabama', 'alaska', 'arizona', 'arkansas', 'california', 'colorado', 'connecticut', 'delaware', 'florida', 'georgia', 'hawaii', 'idaho', 'illinois', 'indiana', 'iowa', 'kansas', 'kentucky', 'louisiana', 'maine', 'maryland', 'massachusetts', 'michigan', 'minnesota', 'mississippi', 'missouri', 'montana', 'nebraska', 'nevada', 'new hampshire', 'new jersey', 'new mexico', 'new york', 'north carolina', 'north dakota', 'ohio', 'oklahoma', 'oregon', 'pennsylvania', 'rhode island', 'south carolina', 'south dakota', 'tennessee', 'texas', 'utah', 'vermont', 'virginia', 'washington', 'west virginia', 'wisconsin', 'wyoming'\n",
    "    }\n",
    "\n",
    "# Function to check if state exists and valid\n",
    "def format_states(state):   \n",
    "    if state.lower() in us_states:\n",
    "        return state\n",
    "    return None"
   ]
  },
  {
   "cell_type": "code",
   "execution_count": null,
   "metadata": {
    "application/vnd.databricks.v1+cell": {
     "cellMetadata": {
      "byteLimit": 2048000,
      "rowLimit": 10000
     },
     "inputWidgets": {},
     "nuid": "b76d8381-97ae-496b-89c2-297b0784adea",
     "showTitle": false,
     "title": ""
    }
   },
   "outputs": [
    {
     "name": "stdout",
     "output_type": "stream",
     "text": [
      "+---------------+---------------+------------+---------------------------------------------------------------+------------+-----------------+\n",
      "|Product_ID     |Category       |Sub_Category|Product_Name                                                   |State       |Price_per_product|\n",
      "+---------------+---------------+------------+---------------------------------------------------------------+------------+-----------------+\n",
      "|FUR-CH-10002961|Furniture      |Chairs      |Leather Task Chair, Black                                      |New York    |81.882           |\n",
      "|TEC-AC-10004659|Technology     |Accessories |Imation Secure+ Hardware Encrypted USB 2.0 Flash Drive; 16GB   |Oklahoma    |72.99            |\n",
      "|OFF-BI-10002824|Office Supplies|Binders     |Recycled Easel Ring Binders                                    |Colorado    |4.25             |\n",
      "|OFF-PA-10003349|Office Supplies|Paper       |Xerox 1957                                                     |Florida     |5.184            |\n",
      "|TEC-AC-10003023|Technology     |Accessories |Logitech G105 Gaming Keyboard                                  |Ohio        |47.496           |\n",
      "|OFF-BI-10004233|Office Supplies|Binders     |\"GBC Pre-Punched Binding Paper, Plastic, White, 8-1/2\"\" x 11\"\"\"|New Jersey  |15.99            |\n",
      "|OFF-PA-10004470|Office Supplies|Paper       |\"Adams Write n' Stick Phone Message Book, 11\"\" X 5 1/4\"\"       |null        |null             |\n",
      "|FUR-FU-10001196|Furniture      |Furnishings |DAX Cubicle Frames - 8x10                                      |Indiana     |5.77             |\n",
      "|OFF-ST-10000585|Office Supplies|Storage     |Economy Rollaway Files                                         |Kentucky    |165.2            |\n",
      "|OFF-ST-10003996|Office Supplies|Storage     |Letter/Legal File Tote with Clear Snap-On Lid, Black Granite   |Washington  |16.06            |\n",
      "|OFF-FA-10002280|Office Supplies|Fasteners   |Advantus Plastic Paper Clips                                   |Pennsylvania|4.0              |\n",
      "|OFF-BI-10001989|Office Supplies|Binders     |Premium Transparent Presentation Covers by GBC                 |California  |16.784           |\n",
      "|OFF-BI-10001460|Office Supplies|Binders     |Plastic Binding Combs                                          |Arizona     |4.545            |\n",
      "|TEC-AC-10002167|Technology     |Accessories |Imation 8gb Micro Traveldrive Usb 2.0 Flash Drive              |New Jersey  |15.0             |\n",
      "|FUR-FU-10001967|Furniture      |Furnishings |Telescoping Adjustable Floor Lamp                              |New York    |19.99            |\n",
      "|FUR-FU-10003806|Furniture      |Furnishings |\"Tenex Chairmat w/ Average Lip, 45\"\" x 53\"\"\"                   |Texas       |60.4             |\n",
      "|OFF-BI-10004139|Office Supplies|Binders     |Fellowes Presentation Covers for Comb Binding Machines         |Illinois    |2.91             |\n",
      "|OFF-ST-10000991|Office Supplies|Storage     |Space Solutions HD Industrial Steel Shelving.                  |Washington  |114.97           |\n",
      "|OFF-BI-10001524|Office Supplies|Binders     |GBC Premium Transparent Covers with Diagonal Lined Pattern     |New York    |16.784           |\n",
      "|OFF-BI-10004364|Office Supplies|Binders     |Storex Dura Pro Binders                                        |Virginia    |5.94             |\n",
      "+---------------+---------------+------------+---------------------------------------------------------------+------------+-----------------+\n",
      "only showing top 20 rows\n",
      "\n"
     ]
    }
   ],
   "source": [
    "\n",
    "\n",
    "df_product = spark.read.option(\"delimiter\",\",\").csv(\"dbfs:/FileStore/PEI_Files/Product.csv\", header=True)\n",
    "df_product = clean_column_names(df_product)\n",
    "\n",
    "\n",
    "# Call UDF to format Customer_Name\n",
    "format_states_udf = udf(format_states, StringType())\n",
    "df_product = df_product.withColumn(\"State\", format_states_udf(\"State\"))\n",
    "\n",
    "df_product = df_product.withColumn(\"Price_per_product\", col(\"Price_per_product\").cast(DoubleType()))\n",
    "\n",
    "\n",
    "df_product.show(truncate=False)"
   ]
  },
  {
   "cell_type": "markdown",
   "metadata": {
    "application/vnd.databricks.v1+cell": {
     "cellMetadata": {
      "byteLimit": 2048000,
      "rowLimit": 10000
     },
     "inputWidgets": {},
     "nuid": "2e2ab16f-b23b-42e4-9091-c074c21dae22",
     "showTitle": false,
     "title": ""
    }
   },
   "source": [
    "Test Cases"
   ]
  },
  {
   "cell_type": "code",
   "execution_count": null,
   "metadata": {
    "application/vnd.databricks.v1+cell": {
     "cellMetadata": {
      "byteLimit": 2048000,
      "rowLimit": 10000
     },
     "inputWidgets": {},
     "nuid": "155ee165-f5f2-4088-8e40-8a8c72b84335",
     "showTitle": false,
     "title": ""
    }
   },
   "outputs": [],
   "source": [
    "# Test 1: clean_column_names\n",
    "expected_columns = ['Product_ID', 'Category', 'Sub_Category', 'Product_Name', 'State', 'Price_per_product']\n",
    "test_clean_column_names(df_product, expected_columns)\n",
    "\n",
    "# Test 1: clean_column_names Negative\n",
    "expected_columns = ['Product ID', 'Category', 'Sub Category', 'Product-Name', 'State', 'Price_per-product']\n",
    "test_clean_column_names(df_product, expected_columns, isPositivecase=False)\n",
    "\n",
    "# Test 2: Cast column to DoubleType\n",
    "expected_schema = {\n",
    "        \"Price_per_product\": DoubleType()\n",
    "    }\n",
    "test_column_datatype(df_product, expected_schema)\n",
    "\n",
    "\n",
    "# Test 2: Cast column to LongType Negative\n",
    "expected_schema = {\n",
    "        \"Price_per_product\": LongType()\n",
    "    }\n",
    "test_column_datatype(df_product, expected_schema, isPositivecase=False)"
   ]
  },
  {
   "cell_type": "markdown",
   "metadata": {
    "application/vnd.databricks.v1+cell": {
     "cellMetadata": {
      "byteLimit": 2048000,
      "rowLimit": 10000
     },
     "inputWidgets": {},
     "nuid": "f0f56db7-cf5e-4247-becb-e5112ad292de",
     "showTitle": false,
     "title": ""
    }
   },
   "source": [
    "#Question:1 Create raw tables for each source dataset"
   ]
  },
  {
   "cell_type": "code",
   "execution_count": null,
   "metadata": {
    "application/vnd.databricks.v1+cell": {
     "cellMetadata": {
      "byteLimit": 2048000,
      "rowLimit": 10000
     },
     "inputWidgets": {},
     "nuid": "38f8b3fd-238c-44cc-a1a3-1a99cb5441a7",
     "showTitle": false,
     "title": ""
    }
   },
   "outputs": [],
   "source": [
    "def test_save_as_table(df_order, df_customer, df_product):    \n",
    "    # Save dataframes as Delta tables\n",
    "    df_order.write.format('delta').mode('overwrite').option(\"overwriteSchema\", \"true\").saveAsTable(\"Order\")\n",
    "    df_customer.write.format('delta').mode('overwrite').option(\"overwriteSchema\", \"true\").saveAsTable(\"Customer\")\n",
    "    df_product.write.format('delta').mode('overwrite').option(\"overwriteSchema\", \"true\").saveAsTable(\"Product\")\n",
    "    \n",
    "    # Check if the tables are created\n",
    "    assert spark._jsparkSession.catalog().tableExists(\"Order\")\n",
    "    assert spark._jsparkSession.catalog().tableExists(\"Customer\")\n",
    "    assert spark._jsparkSession.catalog().tableExists(\"Product\")\n",
    "    \n",
    "    # Check the count of the tables\n",
    "    assert spark.sql(\"SELECT COUNT(1) FROM Order\").first()[0] == df_order.count()\n",
    "    assert spark.sql(\"SELECT COUNT(1) FROM Customer\").first()[0] == df_customer.count()\n",
    "    assert spark.sql(\"SELECT COUNT(1) FROM Product\").first()[0] == df_product.count()\n",
    "\n",
    "    \n",
    "# Run the test function\n",
    "test_save_as_table(df_order, df_customer, df_product)\n"
   ]
  },
  {
   "cell_type": "markdown",
   "metadata": {
    "application/vnd.databricks.v1+cell": {
     "cellMetadata": {
      "byteLimit": 2048000,
      "rowLimit": 10000
     },
     "inputWidgets": {},
     "nuid": "1051f6b0-c66f-427d-bf35-7a0c8b46f49f",
     "showTitle": false,
     "title": ""
    }
   },
   "source": [
    "###check duplicates in Raw Data"
   ]
  },
  {
   "cell_type": "markdown",
   "metadata": {
    "application/vnd.databricks.v1+cell": {
     "cellMetadata": {
      "byteLimit": 2048000,
      "rowLimit": 10000
     },
     "inputWidgets": {},
     "nuid": "0700e548-2c61-49a1-b0ba-14f46c66354a",
     "showTitle": false,
     "title": ""
    }
   },
   "source": [
    "Order"
   ]
  },
  {
   "cell_type": "code",
   "execution_count": null,
   "metadata": {
    "application/vnd.databricks.v1+cell": {
     "cellMetadata": {
      "byteLimit": 2048000,
      "implicitDf": true,
      "rowLimit": 10000
     },
     "inputWidgets": {},
     "nuid": "95d6d08c-c6a9-4eb9-af99-fe2cce96feff",
     "showTitle": false,
     "title": ""
    }
   },
   "outputs": [
    {
     "data": {
      "text/html": [
       "<style scoped>\n",
       "  .table-result-container {\n",
       "    max-height: 300px;\n",
       "    overflow: auto;\n",
       "  }\n",
       "  table, th, td {\n",
       "    border: 1px solid black;\n",
       "    border-collapse: collapse;\n",
       "  }\n",
       "  th, td {\n",
       "    padding: 5px;\n",
       "  }\n",
       "  th {\n",
       "    text-align: left;\n",
       "  }\n",
       "</style><div class='table-result-container'><table class='table-result'><thead style='background-color: white'><tr><th>Order_ID</th><th>Product_ID</th><th>item_count</th></tr></thead><tbody><tr><td>CA-2017-152912</td><td>OFF-ST-10003208</td><td>2</td></tr><tr><td>CA-2015-103135</td><td>OFF-BI-10000069</td><td>2</td></tr><tr><td>US-2016-123750</td><td>TEC-AC-10004659</td><td>2</td></tr><tr><td>CA-2016-140571</td><td>OFF-PA-10001954</td><td>2</td></tr><tr><td>CA-2017-118017</td><td>TEC-AC-10002006</td><td>2</td></tr><tr><td>US-2014-150119</td><td>FUR-CH-10002965</td><td>2</td></tr><tr><td>CA-2016-137043</td><td>FUR-FU-10003664</td><td>2</td></tr><tr><td>CA-2016-129714</td><td>OFF-PA-10001970</td><td>2</td></tr></tbody></table></div>"
      ]
     },
     "metadata": {
      "application/vnd.databricks.v1+output": {
       "addedWidgets": {},
       "aggData": [],
       "aggError": "",
       "aggOverflow": false,
       "aggSchema": [],
       "aggSeriesLimitReached": false,
       "aggType": "",
       "arguments": {},
       "columnCustomDisplayInfos": {},
       "data": [
        [
         "CA-2017-152912",
         "OFF-ST-10003208",
         2
        ],
        [
         "CA-2015-103135",
         "OFF-BI-10000069",
         2
        ],
        [
         "US-2016-123750",
         "TEC-AC-10004659",
         2
        ],
        [
         "CA-2016-140571",
         "OFF-PA-10001954",
         2
        ],
        [
         "CA-2017-118017",
         "TEC-AC-10002006",
         2
        ],
        [
         "US-2014-150119",
         "FUR-CH-10002965",
         2
        ],
        [
         "CA-2016-137043",
         "FUR-FU-10003664",
         2
        ],
        [
         "CA-2016-129714",
         "OFF-PA-10001970",
         2
        ]
       ],
       "datasetInfos": [],
       "dbfsResultPath": null,
       "isJsonSchema": true,
       "metadata": {},
       "overflow": false,
       "plotOptions": {
        "customPlotOptions": {},
        "displayType": "table",
        "pivotAggregation": null,
        "pivotColumns": null,
        "xColumns": null,
        "yColumns": null
       },
       "removedWidgets": [],
       "schema": [
        {
         "metadata": "{}",
         "name": "Order_ID",
         "type": "\"string\""
        },
        {
         "metadata": "{}",
         "name": "Product_ID",
         "type": "\"string\""
        },
        {
         "metadata": "{}",
         "name": "item_count",
         "type": "\"long\""
        }
       ],
       "type": "table"
      }
     },
     "output_type": "display_data"
    }
   ],
   "source": [
    "%sql\n",
    "select Order_ID,Product_ID, count(1) item_count from order\n",
    "          GROUP BY Order_ID,Product_ID\n",
    "          HAVING item_count > 1\n",
    "          order by item_count desc\n",
    "-- my understanding is that I can identify a row uniquely using Order_ID and Product_ID but in output there are 8 dulicate records          "
   ]
  },
  {
   "cell_type": "code",
   "execution_count": null,
   "metadata": {
    "application/vnd.databricks.v1+cell": {
     "cellMetadata": {
      "byteLimit": 2048000,
      "implicitDf": true,
      "rowLimit": 10000
     },
     "inputWidgets": {},
     "nuid": "d4001ff8-05d5-4ca5-a60d-a7e2a944bab9",
     "showTitle": false,
     "title": ""
    }
   },
   "outputs": [
    {
     "data": {
      "text/html": [
       "<style scoped>\n",
       "  .table-result-container {\n",
       "    max-height: 300px;\n",
       "    overflow: auto;\n",
       "  }\n",
       "  table, th, td {\n",
       "    border: 1px solid black;\n",
       "    border-collapse: collapse;\n",
       "  }\n",
       "  th, td {\n",
       "    padding: 5px;\n",
       "  }\n",
       "  th {\n",
       "    text-align: left;\n",
       "  }\n",
       "</style><div class='table-result-container'><table class='table-result'><thead style='background-color: white'><tr><th>Customer_ID</th><th>Discount</th><th>Order_Date</th><th>Order_ID</th><th>Price</th><th>Product_ID</th><th>Profit</th><th>Quantity</th><th>Row_ID</th><th>Ship_Date</th><th>Ship_Mode</th></tr></thead><tbody><tr><td>RB-19795</td><td>0.2</td><td>2016-04-15</td><td>US-2016-123750</td><td>291.96</td><td>TEC-AC-10004659</td><td>54.7425</td><td>5</td><td>1680</td><td>2016-04-21</td><td>Standard Class</td></tr><tr><td>RB-19795</td><td>0.2</td><td>2016-04-15</td><td>US-2016-123750</td><td>408.744</td><td>TEC-AC-10004659</td><td>76.6395</td><td>7</td><td>3434</td><td>2016-04-21</td><td>Standard Class</td></tr></tbody></table></div>"
      ]
     },
     "metadata": {
      "application/vnd.databricks.v1+output": {
       "addedWidgets": {},
       "aggData": [],
       "aggError": "",
       "aggOverflow": false,
       "aggSchema": [],
       "aggSeriesLimitReached": false,
       "aggType": "",
       "arguments": {},
       "columnCustomDisplayInfos": {},
       "data": [
        [
         "RB-19795",
         0.2,
         "2016-04-15",
         "US-2016-123750",
         291.96,
         "TEC-AC-10004659",
         54.7425,
         5,
         1680,
         "2016-04-21",
         "Standard Class"
        ],
        [
         "RB-19795",
         0.2,
         "2016-04-15",
         "US-2016-123750",
         408.744,
         "TEC-AC-10004659",
         76.6395,
         7,
         3434,
         "2016-04-21",
         "Standard Class"
        ]
       ],
       "datasetInfos": [],
       "dbfsResultPath": null,
       "isJsonSchema": true,
       "metadata": {},
       "overflow": false,
       "plotOptions": {
        "customPlotOptions": {},
        "displayType": "table",
        "pivotAggregation": null,
        "pivotColumns": null,
        "xColumns": null,
        "yColumns": null
       },
       "removedWidgets": [],
       "schema": [
        {
         "metadata": "{}",
         "name": "Customer_ID",
         "type": "\"string\""
        },
        {
         "metadata": "{}",
         "name": "Discount",
         "type": "\"double\""
        },
        {
         "metadata": "{}",
         "name": "Order_Date",
         "type": "\"date\""
        },
        {
         "metadata": "{}",
         "name": "Order_ID",
         "type": "\"string\""
        },
        {
         "metadata": "{}",
         "name": "Price",
         "type": "\"double\""
        },
        {
         "metadata": "{}",
         "name": "Product_ID",
         "type": "\"string\""
        },
        {
         "metadata": "{}",
         "name": "Profit",
         "type": "\"double\""
        },
        {
         "metadata": "{}",
         "name": "Quantity",
         "type": "\"long\""
        },
        {
         "metadata": "{}",
         "name": "Row_ID",
         "type": "\"long\""
        },
        {
         "metadata": "{}",
         "name": "Ship_Date",
         "type": "\"date\""
        },
        {
         "metadata": "{}",
         "name": "Ship_Mode",
         "type": "\"string\""
        }
       ],
       "type": "table"
      }
     },
     "output_type": "display_data"
    }
   ],
   "source": [
    "%sql\n",
    "SELECT * FROM Order where Order_ID = 'US-2016-123750' AND Product_ID = 'TEC-AC-10004659'\n",
    "-- for the same Order_ID and Product_ID we have different quamtities"
   ]
  },
  {
   "cell_type": "markdown",
   "metadata": {
    "application/vnd.databricks.v1+cell": {
     "cellMetadata": {
      "byteLimit": 2048000,
      "rowLimit": 10000
     },
     "inputWidgets": {},
     "nuid": "7922acac-a0ca-4396-b154-1954d71e85ce",
     "showTitle": false,
     "title": ""
    }
   },
   "source": [
    "Customer"
   ]
  },
  {
   "cell_type": "code",
   "execution_count": null,
   "metadata": {
    "application/vnd.databricks.v1+cell": {
     "cellMetadata": {
      "byteLimit": 2048000,
      "implicitDf": true,
      "rowLimit": 10000
     },
     "inputWidgets": {},
     "nuid": "f7661569-2515-4ca5-80a2-bc0d5e683492",
     "showTitle": false,
     "title": ""
    }
   },
   "outputs": [
    {
     "data": {
      "text/html": [
       "<style scoped>\n",
       "  .table-result-container {\n",
       "    max-height: 300px;\n",
       "    overflow: auto;\n",
       "  }\n",
       "  table, th, td {\n",
       "    border: 1px solid black;\n",
       "    border-collapse: collapse;\n",
       "  }\n",
       "  th, td {\n",
       "    padding: 5px;\n",
       "  }\n",
       "  th {\n",
       "    text-align: left;\n",
       "  }\n",
       "</style><div class='table-result-container'><table class='table-result'><thead style='background-color: white'><tr><th>Customer_ID</th><th>item_count</th></tr></thead><tbody></tbody></table></div>"
      ]
     },
     "metadata": {
      "application/vnd.databricks.v1+output": {
       "addedWidgets": {},
       "aggData": [],
       "aggError": "",
       "aggOverflow": false,
       "aggSchema": [],
       "aggSeriesLimitReached": false,
       "aggType": "",
       "arguments": {},
       "columnCustomDisplayInfos": {},
       "data": [],
       "datasetInfos": [],
       "dbfsResultPath": null,
       "isJsonSchema": true,
       "metadata": {},
       "overflow": false,
       "plotOptions": {
        "customPlotOptions": {},
        "displayType": "table",
        "pivotAggregation": null,
        "pivotColumns": null,
        "xColumns": null,
        "yColumns": null
       },
       "removedWidgets": [],
       "schema": [
        {
         "metadata": "{}",
         "name": "Customer_ID",
         "type": "\"string\""
        },
        {
         "metadata": "{}",
         "name": "item_count",
         "type": "\"long\""
        }
       ],
       "type": "table"
      }
     },
     "output_type": "display_data"
    }
   ],
   "source": [
    "%sql\n",
    "select Customer_ID, count(1) item_count from Customer\n",
    "          GROUP BY Customer_ID\n",
    "          HAVING item_count > 1\n",
    "          order by item_count desc\n",
    "-- no duplicates in Customer"
   ]
  },
  {
   "cell_type": "markdown",
   "metadata": {
    "application/vnd.databricks.v1+cell": {
     "cellMetadata": {
      "byteLimit": 2048000,
      "rowLimit": 10000
     },
     "inputWidgets": {},
     "nuid": "1d3610ce-650e-47e4-a168-d960d4580441",
     "showTitle": false,
     "title": ""
    }
   },
   "source": [
    "Product"
   ]
  },
  {
   "cell_type": "code",
   "execution_count": null,
   "metadata": {
    "application/vnd.databricks.v1+cell": {
     "cellMetadata": {
      "byteLimit": 2048000,
      "implicitDf": true,
      "rowLimit": 10000
     },
     "inputWidgets": {},
     "nuid": "cc76895d-d25e-42ae-9516-2cc14cbddaf9",
     "showTitle": false,
     "title": ""
    }
   },
   "outputs": [
    {
     "data": {
      "text/html": [
       "<style scoped>\n",
       "  .table-result-container {\n",
       "    max-height: 300px;\n",
       "    overflow: auto;\n",
       "  }\n",
       "  table, th, td {\n",
       "    border: 1px solid black;\n",
       "    border-collapse: collapse;\n",
       "  }\n",
       "  th, td {\n",
       "    padding: 5px;\n",
       "  }\n",
       "  th {\n",
       "    text-align: left;\n",
       "  }\n",
       "</style><div class='table-result-container'><table class='table-result'><thead style='background-color: white'><tr><th>Product_ID</th><th>item_count</th></tr></thead><tbody><tr><td>OFF-PA-10000477</td><td>2</td></tr><tr><td>FUR-FU-10004270</td><td>2</td></tr><tr><td>TEC-MA-10001148</td><td>2</td></tr><tr><td>OFF-BI-10004654</td><td>2</td></tr><tr><td>FUR-FU-10004017</td><td>2</td></tr><tr><td>OFF-PA-10001166</td><td>2</td></tr><tr><td>OFF-PA-10002195</td><td>2</td></tr><tr><td>OFF-AR-10001149</td><td>2</td></tr><tr><td>FUR-BO-10002213</td><td>2</td></tr><tr><td>TEC-PH-10004531</td><td>2</td></tr><tr><td>TEC-PH-10002310</td><td>2</td></tr><tr><td>TEC-AC-10002550</td><td>2</td></tr><tr><td>FUR-FU-10004848</td><td>2</td></tr><tr><td>OFF-ST-10001228</td><td>2</td></tr><tr><td>TEC-PH-10001795</td><td>2</td></tr><tr><td>OFF-BI-10004632</td><td>2</td></tr><tr><td>TEC-AC-10002049</td><td>2</td></tr><tr><td>OFF-AP-10000576</td><td>2</td></tr><tr><td>OFF-PA-10000659</td><td>2</td></tr><tr><td>FUR-FU-10001473</td><td>2</td></tr><tr><td>FUR-CH-10002961</td><td>2</td></tr><tr><td>TEC-PH-10001530</td><td>2</td></tr><tr><td>OFF-PA-10001970</td><td>2</td></tr><tr><td>OFF-PA-10000357</td><td>2</td></tr><tr><td>OFF-PA-10002377</td><td>2</td></tr><tr><td>FUR-FU-10004864</td><td>2</td></tr><tr><td>TEC-AC-10003832</td><td>2</td></tr><tr><td>FUR-FU-10004091</td><td>2</td></tr><tr><td>OFF-BI-10002026</td><td>2</td></tr><tr><td>OFF-ST-10004950</td><td>2</td></tr><tr><td>FUR-CH-10001146</td><td>2</td></tr><tr><td>OFF-PA-10003022</td><td>2</td></tr><tr><td>TEC-PH-10002200</td><td>2</td></tr></tbody></table></div>"
      ]
     },
     "metadata": {
      "application/vnd.databricks.v1+output": {
       "addedWidgets": {},
       "aggData": [],
       "aggError": "",
       "aggOverflow": false,
       "aggSchema": [],
       "aggSeriesLimitReached": false,
       "aggType": "",
       "arguments": {},
       "columnCustomDisplayInfos": {},
       "data": [
        [
         "OFF-PA-10000477",
         2
        ],
        [
         "FUR-FU-10004270",
         2
        ],
        [
         "TEC-MA-10001148",
         2
        ],
        [
         "OFF-BI-10004654",
         2
        ],
        [
         "FUR-FU-10004017",
         2
        ],
        [
         "OFF-PA-10001166",
         2
        ],
        [
         "OFF-PA-10002195",
         2
        ],
        [
         "OFF-AR-10001149",
         2
        ],
        [
         "FUR-BO-10002213",
         2
        ],
        [
         "TEC-PH-10004531",
         2
        ],
        [
         "TEC-PH-10002310",
         2
        ],
        [
         "TEC-AC-10002550",
         2
        ],
        [
         "FUR-FU-10004848",
         2
        ],
        [
         "OFF-ST-10001228",
         2
        ],
        [
         "TEC-PH-10001795",
         2
        ],
        [
         "OFF-BI-10004632",
         2
        ],
        [
         "TEC-AC-10002049",
         2
        ],
        [
         "OFF-AP-10000576",
         2
        ],
        [
         "OFF-PA-10000659",
         2
        ],
        [
         "FUR-FU-10001473",
         2
        ],
        [
         "FUR-CH-10002961",
         2
        ],
        [
         "TEC-PH-10001530",
         2
        ],
        [
         "OFF-PA-10001970",
         2
        ],
        [
         "OFF-PA-10000357",
         2
        ],
        [
         "OFF-PA-10002377",
         2
        ],
        [
         "FUR-FU-10004864",
         2
        ],
        [
         "TEC-AC-10003832",
         2
        ],
        [
         "FUR-FU-10004091",
         2
        ],
        [
         "OFF-BI-10002026",
         2
        ],
        [
         "OFF-ST-10004950",
         2
        ],
        [
         "FUR-CH-10001146",
         2
        ],
        [
         "OFF-PA-10003022",
         2
        ],
        [
         "TEC-PH-10002200",
         2
        ]
       ],
       "datasetInfos": [],
       "dbfsResultPath": null,
       "isJsonSchema": true,
       "metadata": {},
       "overflow": false,
       "plotOptions": {
        "customPlotOptions": {},
        "displayType": "table",
        "pivotAggregation": null,
        "pivotColumns": null,
        "xColumns": null,
        "yColumns": null
       },
       "removedWidgets": [],
       "schema": [
        {
         "metadata": "{}",
         "name": "Product_ID",
         "type": "\"string\""
        },
        {
         "metadata": "{}",
         "name": "item_count",
         "type": "\"long\""
        }
       ],
       "type": "table"
      }
     },
     "output_type": "display_data"
    }
   ],
   "source": [
    "%sql\n",
    "select Product_ID, count(1) item_count from Product\n",
    "          GROUP BY Product_ID\n",
    "          HAVING item_count > 1\n",
    "          order by item_count desc\n",
    "-- we can see 33 products id's are dulicated"
   ]
  },
  {
   "cell_type": "code",
   "execution_count": null,
   "metadata": {
    "application/vnd.databricks.v1+cell": {
     "cellMetadata": {
      "byteLimit": 2048000,
      "implicitDf": true,
      "rowLimit": 10000
     },
     "inputWidgets": {},
     "nuid": "81dba51e-3789-41ae-8cc5-de53ab7298d4",
     "showTitle": false,
     "title": ""
    }
   },
   "outputs": [
    {
     "data": {
      "text/html": [
       "<style scoped>\n",
       "  .table-result-container {\n",
       "    max-height: 300px;\n",
       "    overflow: auto;\n",
       "  }\n",
       "  table, th, td {\n",
       "    border: 1px solid black;\n",
       "    border-collapse: collapse;\n",
       "  }\n",
       "  th, td {\n",
       "    padding: 5px;\n",
       "  }\n",
       "  th {\n",
       "    text-align: left;\n",
       "  }\n",
       "</style><div class='table-result-container'><table class='table-result'><thead style='background-color: white'><tr><th>Product_ID</th><th>Category</th><th>Sub_Category</th><th>Product_Name</th><th>State</th><th>Price_per_product</th></tr></thead><tbody><tr><td>OFF-BI-10002026</td><td>Office Supplies</td><td>Binders</td><td>Ibico Recycled Linen-Style Covers</td><td>California</td><td>31.248</td></tr><tr><td>OFF-BI-10002026</td><td>Office Supplies</td><td>Binders</td><td>Avery Arch Ring Binders</td><td>California</td><td>46.48</td></tr></tbody></table></div>"
      ]
     },
     "metadata": {
      "application/vnd.databricks.v1+output": {
       "addedWidgets": {},
       "aggData": [],
       "aggError": "",
       "aggOverflow": false,
       "aggSchema": [],
       "aggSeriesLimitReached": false,
       "aggType": "",
       "arguments": {},
       "columnCustomDisplayInfos": {},
       "data": [
        [
         "OFF-BI-10002026",
         "Office Supplies",
         "Binders",
         "Ibico Recycled Linen-Style Covers",
         "California",
         31.248
        ],
        [
         "OFF-BI-10002026",
         "Office Supplies",
         "Binders",
         "Avery Arch Ring Binders",
         "California",
         46.48
        ]
       ],
       "datasetInfos": [],
       "dbfsResultPath": null,
       "isJsonSchema": true,
       "metadata": {},
       "overflow": false,
       "plotOptions": {
        "customPlotOptions": {},
        "displayType": "table",
        "pivotAggregation": null,
        "pivotColumns": null,
        "xColumns": null,
        "yColumns": null
       },
       "removedWidgets": [],
       "schema": [
        {
         "metadata": "{}",
         "name": "Product_ID",
         "type": "\"string\""
        },
        {
         "metadata": "{}",
         "name": "Category",
         "type": "\"string\""
        },
        {
         "metadata": "{}",
         "name": "Sub_Category",
         "type": "\"string\""
        },
        {
         "metadata": "{}",
         "name": "Product_Name",
         "type": "\"string\""
        },
        {
         "metadata": "{}",
         "name": "State",
         "type": "\"string\""
        },
        {
         "metadata": "{}",
         "name": "Price_per_product",
         "type": "\"double\""
        }
       ],
       "type": "table"
      }
     },
     "output_type": "display_data"
    }
   ],
   "source": [
    "%sql\n",
    "select * from Product where  Product_ID = 'OFF-BI-10002026'\n",
    "-- here Product_ID is same but  Product_Name is different and when retriving exact product information using Product_ID will result in multiple rows for few ID's"
   ]
  },
  {
   "cell_type": "markdown",
   "metadata": {
    "application/vnd.databricks.v1+cell": {
     "cellMetadata": {
      "byteLimit": 2048000,
      "rowLimit": 10000
     },
     "inputWidgets": {},
     "nuid": "3fd82639-7da2-44cc-8924-14a85a7edffe",
     "showTitle": false,
     "title": ""
    }
   },
   "source": [
    "#Question:2"
   ]
  },
  {
   "cell_type": "code",
   "execution_count": null,
   "metadata": {
    "application/vnd.databricks.v1+cell": {
     "cellMetadata": {
      "byteLimit": 2048000,
      "rowLimit": 10000
     },
     "inputWidgets": {},
     "nuid": "ce88ea63-38f2-452b-9d34-e3edcd74ae56",
     "showTitle": false,
     "title": ""
    }
   },
   "outputs": [
    {
     "name": "stdout",
     "output_type": "stream",
     "text": [
      "+-----------+------------------+--------------------------------+----------+----------------------------------------------------------+-----------+-------------+-------------+--------------+-----------+-------+---------------+---------------+------------+---------------------------------------------------------------+-------------+-----------------+\n",
      "|Customer_ID|Customer_Name     |email                           |phone     |address                                                   |Segment    |Country      |City         |Customer_State|Postal_Code|Region |Product_ID     |Category       |Sub_Category|Product_Name                                                   |Product_State|Price_per_product|\n",
      "+-----------+------------------+--------------------------------+----------+----------------------------------------------------------+-----------+-------------+-------------+--------------+-----------+-------+---------------+---------------+------------+---------------------------------------------------------------+-------------+-----------------+\n",
      "|JK-15370   |Jay Kimmel        |hollyfowler486@gmail.com        |5978092330|112 Terry Stream\\nEast Charles, AS 61238                  |Consumer   |United States|New York City|New York      |10035.0    |East   |FUR-CH-10002961|Furniture      |Chairs      |Leather Task Chair, Black                                      |Pennsylvania |63.686           |\n",
      "|JK-15370   |Jay Kimmel        |hollyfowler486@gmail.com        |5978092330|112 Terry Stream\\nEast Charles, AS 61238                  |Consumer   |United States|New York City|New York      |10035.0    |East   |FUR-CH-10002961|Furniture      |Chairs      |Leather Task Chair, Black                                      |New York     |81.882           |\n",
      "|BD-11320   |Bil Donatelli     |reginawong744@gmail.com         |2759219629|97722 Carter Lodge\\nWest Mirandaburgh, WV 83151           |Consumer   |United States|Tulsa        |Oklahoma      |74133.0    |Central|TEC-AC-10004659|Technology     |Accessories |Imation Secure+ Hardware Encrypted USB 2.0 Flash Drive; 16GB   |Oklahoma     |72.99            |\n",
      "|LB-16795   |Laurel Beltran    |kevinsellers765@gmail.com       |7704934211|3351 Jack Spurs\\nBrianberg, PW 50557                      |Home Office|United States|Pueblo       |Colorado      |81001.0    |West   |OFF-BI-10002824|Office Supplies|Binders     |Recycled Easel Ring Binders                                    |Colorado     |4.25             |\n",
      "|KB-16315   |Karl Braun        |stevencastillo569@gmail.com     |null      |514 Nicholas Row Apt. 600\\nMercedesfurt, MP 23388         |Consumer   |United States|Hollywood    |Florida       |33021.0    |South  |OFF-PA-10003349|Office Supplies|Paper       |Xerox 1957                                                     |Florida      |5.184            |\n",
      "|DO-13435   |Denny Ordway      |philipnewton546@gmail.com       |null      |871 Michael Loaf\\nNew Jacob, NH 07446                     |Consumer   |United States|Columbus     |Ohio          |43229.0    |East   |TEC-AC-10003023|Technology     |Accessories |Logitech G105 Gaming Keyboard                                  |Ohio         |47.496           |\n",
      "|CB-12025   |Cassandra Brandow |aimeejacobs870@gmail.com        |2489344344|USCGC Johnson\\nFPO AE 24361                               |Consumer   |United States|East Orange  |New Jersey    |7017.0     |East   |OFF-BI-10004233|Office Supplies|Binders     |\"GBC Pre-Punched Binding Paper, Plastic, White, 8-1/2\"\" x 11\"\"\"|New Jersey   |15.99            |\n",
      "|SM-20005   |Sally Matthias    |timjones317@gmail.com           |2654777702|552 Jennifer Cape Apt. 065\\nSydneyburgh, NV 24609         |Consumer   |United States|New York City|New York      |10009.0    |East   |OFF-PA-10004470|Office Supplies|Paper       |\"Adams Write n' Stick Phone Message Book, 11\"\" X 5 1/4\"\"       |null         |null             |\n",
      "|RD-19480   |Rick Duston       |sandrarogers926@gmail.com       |2131820679|Unit 7842 Box 0303\\nDPO AP 64574                          |Consumer   |United States|Richmond     |Indiana       |47374.0    |Central|FUR-FU-10001196|Furniture      |Furnishings |DAX Cubicle Frames - 8x10                                      |Indiana      |5.77             |\n",
      "|JM-16195   |Justin MacKendrick|stephanierichardson449@gmail.com|1795744428|40653 Norris Vista Apt. 474\\nHuntton, MO 28070            |Consumer   |United States|Louisville   |Kentucky      |40214.0    |South  |OFF-ST-10000585|Office Supplies|Storage     |Economy Rollaway Files                                         |Kentucky     |165.2            |\n",
      "|SC-20230   |Scot Coram        |richardtaylor733@gmail.com      |null      |5113 Simon Plain\\nPort Tracyshire, MS 98731               |Corporate  |United States|Seattle      |Washington    |98105.0    |West   |OFF-ST-10003996|Office Supplies|Storage     |Letter/Legal File Tote with Clear Snap-On Lid, Black Granite   |Washington   |16.06            |\n",
      "|BO-11350   |Bil Overfelt      |debbierogers865@gmail.com       |1891039259|22244 Jonathan Ville\\nDanielbury, PR 03888                |Corporate  |United States|Philadelphia |Pennsylvania  |19134.0    |East   |OFF-FA-10002280|Office Supplies|Fasteners   |Advantus Plastic Paper Clips                                   |Pennsylvania |4.0              |\n",
      "|BD-11320   |Bil Donatelli     |reginawong744@gmail.com         |2759219629|97722 Carter Lodge\\nWest Mirandaburgh, WV 83151           |Consumer   |United States|Tulsa        |Oklahoma      |74133.0    |Central|OFF-BI-10001989|Office Supplies|Binders     |Premium Transparent Presentation Covers by GBC                 |California   |16.784           |\n",
      "|AB-10105   |Adrian Barton     |daviddavis980@gmail.com         |null      |021 Katherine Mall\\nJameston, DC 24685                    |Consumer   |United States|Phoenix      |Arizona       |85023.0    |West   |OFF-BI-10001460|Office Supplies|Binders     |Plastic Binding Combs                                          |Arizona      |4.545            |\n",
      "|NP-18670   |Nra Paige         |rodneysutton737@gmail.com       |3249154193|10316 Debra Unions\\nSouth Melody, IL 47403                |Consumer   |United States|Lakewood     |New Jersey    |8701.0     |East   |TEC-AC-10002167|Technology     |Accessories |Imation 8gb Micro Traveldrive Usb 2.0 Flash Drive              |New Jersey   |15.0             |\n",
      "|KD-16270   |Karen Danels      |benjaminpayne924@gmail.com      |null      |5612 Meyers Stravenue Apt. 559\\nWest Kelseyburgh, MH 58753|Consumer   |United States|New York City|New York      |10024.0    |East   |FUR-FU-10001967|Furniture      |Furnishings |Telescoping Adjustable Floor Lamp                              |New York     |19.99            |\n",
      "|BF-11005   |Barry Franz       |kevinwatkins979@gmail.com       |null      |8175 Hicks Stravenue\\nMichaeltown, FM 63439               |Home Office|United States|Pasadena     |Texas         |77506.0    |Central|FUR-FU-10003806|Furniture      |Furnishings |\"Tenex Chairmat w/ Average Lip, 45\"\" x 53\"\"\"                   |Texas        |60.4             |\n",
      "|LE-16810   |Laurel Elliston   |crystalpalmer582@gmail.com      |6585340061|86402 Rachel Common Apt. 606\\nStantonside, TN 56449       |Consumer   |United States|Chicago      |Illinois      |60653.0    |Central|OFF-BI-10004139|Office Supplies|Binders     |Fellowes Presentation Covers for Comb Binding Machines         |Illinois     |2.91             |\n",
      "|TT-21070   |Ted Trevino       |aaroncarey644@gmail.com         |3620477787|253 Mindy Curve\\nWest Amandastad, ID 70219                |Consumer   |United States|Seattle      |Washington    |98103.0    |West   |OFF-ST-10000991|Office Supplies|Storage     |Space Solutions HD Industrial Steel Shelving.                  |Washington   |114.97           |\n",
      "|CA-12055   |Cthy Armstrong    |charlesnunez365@gmail.com       |null      |70959 Nichols Point\\nNorth Stephanieton, OH 05224         |Home Office|United States|New York City|New York      |10009.0    |East   |OFF-BI-10001524|Office Supplies|Binders     |GBC Premium Transparent Covers with Diagonal Lined Pattern     |New York     |16.784           |\n",
      "+-----------+------------------+--------------------------------+----------+----------------------------------------------------------+-----------+-------------+-------------+--------------+-----------+-------+---------------+---------------+------------+---------------------------------------------------------------+-------------+-----------------+\n",
      "only showing top 20 rows\n",
      "\n"
     ]
    }
   ],
   "source": [
    "df_enriched_customer_products = spark.sql(\n",
    "    \"\"\"\n",
    "    Select \n",
    "    c.Customer_ID\n",
    "    ,c.Customer_Name\n",
    "    ,c.email\n",
    "    ,c.phone\n",
    "    ,c.address\n",
    "    ,c.Segment\n",
    "    ,c.Country\n",
    "    ,c.City\n",
    "    ,c.State as Customer_State\n",
    "    ,c.Postal_Code\n",
    "    ,c.Region\n",
    "    ,p.Product_ID\n",
    "    ,p.Category\n",
    "    ,p.Sub_Category\n",
    "    ,p.Product_Name\n",
    "    ,p.State as Product_State\n",
    "    ,p.Price_per_product\n",
    "    -- ,o.Order_ID\n",
    "    from customer as c\n",
    "    join `order` as o\n",
    "    join product as p\n",
    "    on c.Customer_ID = o.Customer_ID\n",
    "    and p.Product_ID = o.Product_ID\n",
    "    \"\"\")\n",
    "\n",
    "df_enriched_customer_products.show(truncate=False)"
   ]
  },
  {
   "cell_type": "code",
   "execution_count": null,
   "metadata": {
    "application/vnd.databricks.v1+cell": {
     "cellMetadata": {
      "byteLimit": 2048000,
      "rowLimit": 10000
     },
     "inputWidgets": {},
     "nuid": "f94ec9b7-a40b-40be-9fd6-eb6b6e3145fd",
     "showTitle": false,
     "title": ""
    }
   },
   "outputs": [],
   "source": [
    "def test_enriched_customer_products_table():\n",
    "    # Save dataframe as Delta table\n",
    "    df_enriched_customer_products.write.format('delta').mode('overwrite').option(\"overwriteSchema\", \"true\").saveAsTable(\"enriched_customer_products\")\n",
    "\n",
    "    # Test case: check if the table exists\n",
    "    table_exists = spark._jsparkSession.catalog().tableExists(\"enriched_customer_products\")\n",
    "    assert table_exists\n",
    "\n",
    "    # Test case: check if the table has correct schema\n",
    "    expected_schema = [\n",
    "        'Customer_ID', 'Customer_Name', 'email', 'phone', 'address', 'Segment', 'Country', 'City', 'Customer_State',\n",
    "        'Postal_Code', 'Region', 'Product_ID', 'Category', 'Sub_Category', 'Product_Name', 'Product_State',\n",
    "        'Price_per_product'\n",
    "    ]\n",
    "    actual_schema = [field.name for field in spark.catalog.listColumns(\"enriched_customer_products\")]\n",
    "    assert actual_schema == expected_schema\n",
    "\n",
    "    # Test case: check if the table has data\n",
    "    row_count = spark.sql(\"SELECT COUNT(*) FROM enriched_customer_products\").collect()[0][0]\n",
    "    assert row_count > 0\n",
    "\n",
    "test_enriched_customer_products_table()\n"
   ]
  },
  {
   "cell_type": "markdown",
   "metadata": {
    "application/vnd.databricks.v1+cell": {
     "cellMetadata": {
      "byteLimit": 2048000,
      "rowLimit": 10000
     },
     "inputWidgets": {},
     "nuid": "aa0a4a34-5df2-4e9c-adb7-13ac14b83de6",
     "showTitle": false,
     "title": ""
    }
   },
   "source": [
    "#Question:3"
   ]
  },
  {
   "cell_type": "code",
   "execution_count": null,
   "metadata": {
    "application/vnd.databricks.v1+cell": {
     "cellMetadata": {
      "byteLimit": 2048000,
      "rowLimit": 10000
     },
     "inputWidgets": {},
     "nuid": "b7141168-f60d-493f-b2f1-ec0b16f148dc",
     "showTitle": false,
     "title": ""
    }
   },
   "outputs": [
    {
     "name": "stdout",
     "output_type": "stream",
     "text": [
      "+------------------+-------------+------+---------------+------------+\n",
      "|Customer_Name     |Country      |Profit|Category       |Sub_Category|\n",
      "+------------------+-------------+------+---------------+------------+\n",
      "|Jay Kimmel        |United States|63.69 |Furniture      |Chairs      |\n",
      "|Jay Kimmel        |United States|63.69 |Furniture      |Chairs      |\n",
      "|Bil Donatelli     |United States|102.19|Technology     |Accessories |\n",
      "|Laurel Beltran    |United States|-14.92|Office Supplies|Binders     |\n",
      "|Karl Braun        |United States|5.64  |Office Supplies|Paper       |\n",
      "|Denny Ordway      |United States|-3.0  |Technology     |Accessories |\n",
      "|Cassandra Brandow |United States|38.38 |Office Supplies|Binders     |\n",
      "|Sally Matthias    |United States|5.23  |Office Supplies|Paper       |\n",
      "|Rick Duston       |United States|5.19  |Furniture      |Furnishings |\n",
      "|Justin MacKendrick|United States|214.0 |Office Supplies|Storage     |\n",
      "|Scot Coram        |United States|4.18  |Office Supplies|Storage     |\n",
      "|Bil Overfelt      |United States|2.8   |Office Supplies|Fasteners   |\n",
      "|Bil Donatelli     |United States|41.12 |Office Supplies|Binders     |\n",
      "|Adrian Barton     |United States|-13.94|Office Supplies|Binders     |\n",
      "|Nra Paige         |United States|4.0   |Technology     |Accessories |\n",
      "|Karen Danels      |United States|10.0  |Furniture      |Furnishings |\n",
      "|Barry Franz       |United States|-378.4|Furniture      |Furnishings |\n",
      "|Laurel Elliston   |United States|-30.56|Office Supplies|Binders     |\n",
      "|Ted Trevino       |United States|10.35 |Office Supplies|Storage     |\n",
      "|Cthy Armstrong    |United States|47.0  |Office Supplies|Binders     |\n",
      "+------------------+-------------+------+---------------+------------+\n",
      "only showing top 20 rows\n",
      "\n"
     ]
    }
   ],
   "source": [
    "df_enriched_order_customer_product = spark.sql(\n",
    "    \"\"\"\n",
    "    Select \n",
    "    c.Customer_Name\n",
    "    ,c.Country\n",
    "    ,Round(o.Profit, 2) as Profit\n",
    "    ,p.Category\n",
    "    ,p.Sub_Category\n",
    "    from `order` as o\n",
    "    join customer as c\n",
    "    join product as p\n",
    "    on c.Customer_ID = o.Customer_ID\n",
    "    and p.Product_ID = o.Product_ID\n",
    "    \"\"\")\n",
    "    \n",
    "df_enriched_order_customer_product.show(truncate=False)"
   ]
  },
  {
   "cell_type": "code",
   "execution_count": null,
   "metadata": {
    "application/vnd.databricks.v1+cell": {
     "cellMetadata": {
      "byteLimit": 2048000,
      "rowLimit": 10000
     },
     "inputWidgets": {},
     "nuid": "5df936aa-c3d3-4a42-b87a-19708bfcbc62",
     "showTitle": false,
     "title": ""
    }
   },
   "outputs": [],
   "source": [
    "def test_enriched_order_customer_product_table():\n",
    "    # Save dataframe as Delta table\n",
    "    df_enriched_order_customer_product.write.format('delta').mode('overwrite').option(\"overwriteSchema\", \"true\").saveAsTable(\"enriched_order_customer_product\")\n",
    "\n",
    "    # Test case: check if the table exists\n",
    "    table_exists = spark._jsparkSession.catalog().tableExists(\"enriched_order_customer_product\")\n",
    "    assert table_exists\n",
    "\n",
    "    # Test case: check if the table has correct schema\n",
    "    expected_schema = [\"Customer_Name\", \"Country\", \"Profit\", \"Category\", \"Sub_Category\"]\n",
    "    actual_schema = [field.name for field in spark.catalog.listColumns(\"enriched_order_customer_product\")]\n",
    "    assert actual_schema == expected_schema\n",
    "\n",
    "    # Test case: check if the table has data\n",
    "    row_count = spark.sql(\"SELECT COUNT(*) FROM enriched_order_customer_product\").collect()[0][0]\n",
    "    assert row_count > 0\n",
    "\n",
    "test_enriched_order_customer_product_table()\n"
   ]
  },
  {
   "cell_type": "markdown",
   "metadata": {
    "application/vnd.databricks.v1+cell": {
     "cellMetadata": {
      "byteLimit": 2048000,
      "rowLimit": 10000
     },
     "inputWidgets": {},
     "nuid": "211496ef-9482-444c-b1e8-effee5deee73",
     "showTitle": false,
     "title": ""
    }
   },
   "source": [
    "#Question:4"
   ]
  },
  {
   "cell_type": "code",
   "execution_count": null,
   "metadata": {
    "application/vnd.databricks.v1+cell": {
     "cellMetadata": {
      "byteLimit": 2048000,
      "rowLimit": 10000
     },
     "inputWidgets": {},
     "nuid": "28542aee-eb5f-477b-a74b-a9f6b059944e",
     "showTitle": false,
     "title": ""
    }
   },
   "outputs": [
    {
     "name": "stdout",
     "output_type": "stream",
     "text": [
      "+-----------------+----+---------------+------------+-----------+--------------------+\n",
      "|Aggregate_Profit |Year|Category       |Sub_Category|Customer_ID|Customer_Name       |\n",
      "+-----------------+----+---------------+------------+-----------+--------------------+\n",
      "|133.0            |2017|Furniture      |Furnishings |MH-17290   |Marc Harrigan       |\n",
      "|99.9012          |2017|Office Supplies|Appliances  |BM-11140   |Becky Martin        |\n",
      "|5.1042           |2017|Office Supplies|Envelopes   |CC-12220   |Chris Cortes        |\n",
      "|2.0416           |2017|Office Supplies|Art         |TA-21385   |Tom Ashbrook        |\n",
      "|11.998           |2017|Technology     |Accessories |HP-14815   |Harold Pawlan       |\n",
      "|-32.2192         |2017|Furniture      |Bookcases   |DW-13585   |Dorothy Wardle      |\n",
      "|107.9892         |2017|Technology     |Accessories |CS-12355   |Christine Sundaresam|\n",
      "|268.347          |2017|Office Supplies|Paper       |TH-21550   |Tracy Hopkins       |\n",
      "|170.2833         |2017|Office Supplies|Storage     |MK-18160   |Mike Kennedy        |\n",
      "|-66.062          |2017|Furniture      |Furnishings |RR-19315   |Ralph Ritter        |\n",
      "|2.891            |2017|Office Supplies|Art         |JL-15130   |Jack Lebron         |\n",
      "|87.7578          |2017|Office Supplies|Storage     |BD-11725   |Bruce Degenhardt    |\n",
      "|4.1391           |2017|Technology     |Phones      |KW-16435   |Katrina Willman     |\n",
      "|8.0968           |2017|Furniture      |Furnishings |JO-15145   |Jack O'Briant       |\n",
      "|18.6006          |2017|Office Supplies|Binders     |JE-15475   |Jeremy Ellison      |\n",
      "|115.1856         |2017|Technology     |Accessories |CR-12820   |Cyra Reiten         |\n",
      "|9.516399999999999|2017|Office Supplies|Paper       |HZ-14950   |Henia Zydlo         |\n",
      "|361.2994         |2017|Office Supplies|Appliances  |NH-18610   |Nicole Hansen       |\n",
      "|-50.396          |2017|Technology     |Phones      |ES-14080   |Erin Smith          |\n",
      "|5.8065           |2017|Technology     |Accessories |FW-14395   |Fred Waerman        |\n",
      "+-----------------+----+---------------+------------+-----------+--------------------+\n",
      "only showing top 20 rows\n",
      "\n"
     ]
    }
   ],
   "source": [
    "df_profit_by_year_pc_psc_customer = spark.sql(\"\"\"\n",
    "                  Select \n",
    "                  sum(Profit) as Aggregate_Profit\n",
    "                  ,year(o.Order_Date) as Year\n",
    "                  ,p.Category\n",
    "                  ,p.Sub_Category\n",
    "                  ,c.Customer_ID\n",
    "                  ,c.Customer_Name\n",
    "                  from `order` as o\n",
    "                  join product as p\n",
    "                  join customer as c\n",
    "                  on c.Customer_ID = o.Customer_ID\n",
    "                  and p.Product_ID = o.Product_ID \n",
    "                  group by\n",
    "                  year(o.Order_Date)\n",
    "                  ,p.Category\n",
    "                  ,p.Sub_Category\n",
    "                  ,c.Customer_ID\n",
    "                  ,c.Customer_Name\n",
    "                  order by Year desc\n",
    "                  \"\"\")\n",
    "\n",
    "df_profit_by_year_pc_psc_customer.show(truncate=False)"
   ]
  },
  {
   "cell_type": "code",
   "execution_count": null,
   "metadata": {
    "application/vnd.databricks.v1+cell": {
     "cellMetadata": {
      "byteLimit": 2048000,
      "rowLimit": 10000
     },
     "inputWidgets": {},
     "nuid": "f061ae64-42fa-4536-b488-6aa898d85699",
     "showTitle": false,
     "title": ""
    }
   },
   "outputs": [],
   "source": [
    "def test_profit_by_year_pc_psc_customer_table():\n",
    "    # Save dataframe as Delta table\n",
    "    df_profit_by_year_pc_psc_customer.write.format('delta').mode('overwrite').option(\"overwriteSchema\", \"true\").saveAsTable(\"profit_by_year_pc_psc_customer\")\n",
    "\n",
    "    # Test case: check if the table exists\n",
    "    table_exists = spark._jsparkSession.catalog().tableExists(\"profit_by_year_pc_psc_customer\")\n",
    "    assert table_exists\n",
    "\n",
    "    # Test case: check if the table has correct schema\n",
    "    expected_schema = [\"Aggregate_Profit\", \"Year\", \"Category\", \"Sub_Category\", \"Customer_ID\", \"Customer_Name\"]\n",
    "    actual_schema = [field.name for field in spark.catalog.listColumns(\"profit_by_year_pc_psc_customer\")]\n",
    "    assert actual_schema == expected_schema\n",
    "\n",
    "    # Test case: check if the table has data\n",
    "    row_count = spark.sql(\"SELECT COUNT(*) FROM profit_by_year_pc_psc_customer\").collect()[0][0]\n",
    "    assert row_count > 0\n",
    "\n",
    "test_profit_by_year_pc_psc_customer_table()"
   ]
  },
  {
   "cell_type": "markdown",
   "metadata": {
    "application/vnd.databricks.v1+cell": {
     "cellMetadata": {
      "byteLimit": 2048000,
      "rowLimit": 10000
     },
     "inputWidgets": {},
     "nuid": "fa33ad45-26ce-426c-b49e-bb3096b4d90f",
     "showTitle": false,
     "title": ""
    }
   },
   "source": [
    "#Question:5a"
   ]
  },
  {
   "cell_type": "code",
   "execution_count": null,
   "metadata": {
    "application/vnd.databricks.v1+cell": {
     "cellMetadata": {
      "byteLimit": 2048000,
      "rowLimit": 10000
     },
     "inputWidgets": {},
     "nuid": "bd9c7d0e-3ffc-4656-847e-d2be27676108",
     "showTitle": false,
     "title": ""
    }
   },
   "outputs": [
    {
     "name": "stdout",
     "output_type": "stream",
     "text": [
      "+------------------+----+\n",
      "|Profit_By_Year    |Year|\n",
      "+------------------+----+\n",
      "|127175.11320000011|2017|\n",
      "|68161.4049000001  |2016|\n",
      "|65706.34270000012 |2015|\n",
      "|40975.45719999994 |2014|\n",
      "+------------------+----+\n",
      "\n"
     ]
    }
   ],
   "source": [
    "def test_profit_by_year():\n",
    "    # Run SQL Query\n",
    "    df_profit_by_year = spark.sql(\n",
    "      \"\"\"\n",
    "      Select \n",
    "      sum(Aggregate_Profit) as Profit_By_Year\n",
    "      ,Year\n",
    "      from profit_by_year_pc_psc_customer\n",
    "      group by\n",
    "      Year\n",
    "      order by Year desc\n",
    "      \"\"\")\n",
    "    df_profit_by_year.show(truncate=False)\n",
    "\n",
    "    # Test case: check if the dataframe has correct schema\n",
    "    expected_schema = [\"Profit_By_Year\", \"Year\"]\n",
    "    assert df_profit_by_year.columns == expected_schema\n",
    "\n",
    "    # Test case: check if the dataframe has data\n",
    "    assert df_profit_by_year.select('Year').distinct().count() == spark.sql(\"Select count(distinct year(Order_Date)) from order\").collect()[0][0]\n",
    "\n",
    "test_profit_by_year()"
   ]
  },
  {
   "cell_type": "markdown",
   "metadata": {
    "application/vnd.databricks.v1+cell": {
     "cellMetadata": {
      "byteLimit": 2048000,
      "rowLimit": 10000
     },
     "inputWidgets": {},
     "nuid": "791b747b-b069-486c-b71c-4925b07d974f",
     "showTitle": false,
     "title": ""
    }
   },
   "source": [
    "#Question:5b"
   ]
  },
  {
   "cell_type": "code",
   "execution_count": null,
   "metadata": {
    "application/vnd.databricks.v1+cell": {
     "cellMetadata": {
      "byteLimit": 2048000,
      "rowLimit": 10000
     },
     "inputWidgets": {},
     "nuid": "04b52b7d-8fe3-4198-b5f2-509ab2b14746",
     "showTitle": false,
     "title": ""
    }
   },
   "outputs": [
    {
     "name": "stdout",
     "output_type": "stream",
     "text": [
      "+--------------------------+----+----------------+\n",
      "|Profit_By_Year_And_Prd_Cat|Year|Product_Category|\n",
      "+--------------------------+----+----------------+\n",
      "|45330.59050000009         |2017|Office Supplies |\n",
      "|78482.83109999997         |2017|Technology      |\n",
      "|3361.6915999999983        |2017|Furniture       |\n",
      "|24437.399599999986        |2016|Technology      |\n",
      "|7750.212200000004         |2016|Furniture       |\n",
      "|35973.79310000002         |2016|Office Supplies |\n",
      "|25490.43370000002         |2015|Office Supplies |\n",
      "|3392.1574                 |2015|Furniture       |\n",
      "|36823.75160000004         |2015|Technology      |\n",
      "|23486.18540000001         |2014|Technology      |\n",
      "|-5174.653799999998        |2014|Furniture       |\n",
      "|22663.92559999998         |2014|Office Supplies |\n",
      "+--------------------------+----+----------------+\n",
      "\n"
     ]
    }
   ],
   "source": [
    "\n",
    "\n",
    "def test_profit_by_year_cat():\n",
    "    # Run SQL Query\n",
    "    df_profit_by_year_cat = spark.sql(\n",
    "      \"\"\"\n",
    "      Select \n",
    "      sum(Aggregate_Profit) as Profit_By_Year_And_Prd_Cat\n",
    "      ,Year\n",
    "      ,Category as Product_Category\n",
    "      from profit_by_year_pc_psc_customer\n",
    "      group by\n",
    "      Year\n",
    "      ,Product_Category\n",
    "      order by Year desc\n",
    "      \"\"\")\n",
    "    df_profit_by_year_cat.show(truncate=False)\n",
    "\n",
    "    # Test case: check if the dataframe has correct schema\n",
    "    expected_schema = [\"Profit_By_Year_And_Prd_Cat\", \"Year\", \"Product_Category\"]\n",
    "    assert df_profit_by_year_cat.columns == expected_schema\n",
    "\n",
    "    # Test case: check if the dataframe has data\n",
    "    assert df_profit_by_year_cat.select('Year','Product_Category').distinct().count() == spark.sql(\"Select count(distinct Year, Category) from profit_by_year_pc_psc_customer\").collect()[0][0]\n",
    "\n",
    "test_profit_by_year_cat()"
   ]
  },
  {
   "cell_type": "markdown",
   "metadata": {
    "application/vnd.databricks.v1+cell": {
     "cellMetadata": {
      "byteLimit": 2048000,
      "rowLimit": 10000
     },
     "inputWidgets": {},
     "nuid": "c956743a-17e7-4d2f-a607-87a5fb01e074",
     "showTitle": false,
     "title": ""
    }
   },
   "source": [
    "#Question:5c"
   ]
  },
  {
   "cell_type": "code",
   "execution_count": null,
   "metadata": {
    "application/vnd.databricks.v1+cell": {
     "cellMetadata": {
      "byteLimit": 2048000,
      "rowLimit": 10000
     },
     "inputWidgets": {},
     "nuid": "78ef34bd-373d-4012-b5ea-202d8b0b6663",
     "showTitle": false,
     "title": ""
    }
   },
   "outputs": [
    {
     "name": "stdout",
     "output_type": "stream",
     "text": [
      "+-------------------+-----------+--------------------+\n",
      "|Profit_By_Customer |Customer_ID|Customer_Name       |\n",
      "+-------------------+-----------+--------------------+\n",
      "|-273.40890000000013|AA-10315   |Alex Avila          |\n",
      "|277.3824           |AA-10375   |Allen Armold        |\n",
      "|445.96940000000006 |AA-10480   |Andrew Allen        |\n",
      "|807.8329           |AA-10645   |Anna Andreadi       |\n",
      "|129.6821           |AB-10015   |Aaron Bergman       |\n",
      "|2047.8491000000001 |AB-10060   |Adam Bellavance     |\n",
      "|5483.749           |AB-10105   |Adrian Barton       |\n",
      "|320.6815           |AB-10150   |Aimee Bixby         |\n",
      "|215.36410000000004 |AB-10165   |Alan Barnes         |\n",
      "|264.56749999999994 |AB-10255   |Alejandro Ballentine|\n",
      "|-275.286           |AB-10600   |Ann Blume           |\n",
      "|-62.1342           |AC-10420   |Alyssa Crouse       |\n",
      "|1730.0927000000001 |AC-10450   |Amy Cox             |\n",
      "|298.61330000000004 |AC-10615   |Ann Chong           |\n",
      "|-28.700399999999995|AC-10660   |Anna Chung          |\n",
      "|1869.9293999999998 |AD-10180   |Alan Dominguez      |\n",
      "|317.63360000000006 |AF-10870   |Art Ferguson        |\n",
      "|-163.1175          |AF-10885   |Art Foster          |\n",
      "|732.7399000000001  |AG-10270   |Alejandro Grove     |\n",
      "|59.2884            |AG-10300   |Aleksandra Gannaway |\n",
      "+-------------------+-----------+--------------------+\n",
      "only showing top 20 rows\n",
      "\n"
     ]
    }
   ],
   "source": [
    "def test_profit_by_customer():\n",
    "    # Run SQL Query\n",
    "    df_profit_by_customer = spark.sql(\n",
    "      \"\"\"\n",
    "      Select \n",
    "      sum(Aggregate_Profit) as Profit_By_Customer\n",
    "      ,Customer_ID\n",
    "      ,Customer_Name\n",
    "      from profit_by_year_pc_psc_customer\n",
    "      group by\n",
    "      Customer_ID\n",
    "      ,Customer_Name\n",
    "      order by Customer_ID\n",
    "      \"\"\")\n",
    "    df_profit_by_customer.show(truncate=False)\n",
    "\n",
    "    # Test case: check if the dataframe has correct schema\n",
    "    expected_schema = [\"Profit_By_Customer\", \"Customer_ID\", \"Customer_Name\"]\n",
    "    assert df_profit_by_customer.columns == expected_schema\n",
    "\n",
    "    # Test case: check if the dataframe has data\n",
    "    assert df_profit_by_customer.select('Customer_ID').distinct().count() == spark.sql(\"Select count(distinct Customer_ID) from profit_by_year_pc_psc_customer\").collect()[0][0]\n",
    "\n",
    "test_profit_by_customer()"
   ]
  },
  {
   "cell_type": "code",
   "execution_count": null,
   "metadata": {
    "application/vnd.databricks.v1+cell": {
     "cellMetadata": {
      "byteLimit": 2048000,
      "rowLimit": 10000
     },
     "inputWidgets": {},
     "nuid": "1d6152a4-f538-4118-91d9-ee670f0468e6",
     "showTitle": false,
     "title": ""
    }
   },
   "outputs": [],
   "source": []
  },
  {
   "cell_type": "markdown",
   "metadata": {
    "application/vnd.databricks.v1+cell": {
     "cellMetadata": {
      "byteLimit": 2048000,
      "rowLimit": 10000
     },
     "inputWidgets": {},
     "nuid": "fc82abaa-e6a2-404f-8498-6e80a25e6b9d",
     "showTitle": false,
     "title": ""
    }
   },
   "source": [
    "#Question:5d"
   ]
  },
  {
   "cell_type": "code",
   "execution_count": null,
   "metadata": {
    "application/vnd.databricks.v1+cell": {
     "cellMetadata": {
      "byteLimit": 2048000,
      "rowLimit": 10000
     },
     "inputWidgets": {},
     "nuid": "e34075ff-f413-410a-b2ad-bc81e2be060f",
     "showTitle": false,
     "title": ""
    }
   },
   "outputs": [
    {
     "name": "stdout",
     "output_type": "stream",
     "text": [
      "+---------------------------+----+-----------+------------------+\n",
      "|Profit_By_Year_And_Customer|Year|Customer_ID|Customer_Name     |\n",
      "+---------------------------+----+-----------+------------------+\n",
      "|10.4754                    |2017|EM-13810   |null              |\n",
      "|33.7788                    |2017|CC-12610   |Corey Catlett     |\n",
      "|221.47639999999998         |2017|MK-18160   |Mike Kennedy      |\n",
      "|74.228                     |2017|CB-12415   |Christy Brittain  |\n",
      "|108.05359999999999         |2017|MH-17620   |Matt Hagelstein   |\n",
      "|397.7298                   |2017|MG-18145   |Mike Gockenbach   |\n",
      "|1210.7213                  |2017|KF-16285   |Karen Ferguson    |\n",
      "|36.9728                    |2017|JF-15490   |Jeremy Farry      |\n",
      "|423.7296                   |2017|EJ-13720   |Ed Jacobs         |\n",
      "|56.8938                    |2017|EP-13915   |Emily Phan        |\n",
      "|196.45880000000002         |2017|VP-21730   |Victor Preis      |\n",
      "|-83.4279                   |2017|SC-20770   |Stewart Carmichael|\n",
      "|164.91330000000002         |2017|CL-12700   |Craig Leslie      |\n",
      "|871.8167                   |2017|ES-14020   |Erica Smith       |\n",
      "|185.9474                   |2017|CM-11815   |Candace McMahon   |\n",
      "|6780.896300000001          |2017|RB-19360   |Raymond Buch      |\n",
      "|110.52130000000001         |2017|DM-13015   |Darrin Martin     |\n",
      "|-2330.2698                 |2017|NC-18415   |Nathan Cano       |\n",
      "|116.4476                   |2017|MP-17965   |Michael Paige     |\n",
      "|11.0594                    |2017|DC-13285   |Debra Catini      |\n",
      "+---------------------------+----+-----------+------------------+\n",
      "only showing top 20 rows\n",
      "\n"
     ]
    }
   ],
   "source": [
    "def test_profit_by_year_customer():\n",
    "    # Run SQL Query\n",
    "    df_profit_by_year_customer = spark.sql(\n",
    "      \"\"\"\n",
    "      Select \n",
    "      sum(Aggregate_Profit) as Profit_By_Year_And_Customer\n",
    "      ,Year\n",
    "      ,Customer_ID\n",
    "      ,Customer_Name\n",
    "      from profit_by_year_pc_psc_customer\n",
    "      group by\n",
    "      Year\n",
    "      ,Customer_ID\n",
    "      ,Customer_Name\n",
    "      order by Year desc\n",
    "      \"\"\")\n",
    "    df_profit_by_year_customer.show(truncate=False)\n",
    "\n",
    "    # Test case: check if the dataframe has correct schema\n",
    "    expected_schema = [\"Profit_By_Year_And_Customer\", \"Year\", \"Customer_ID\", \"Customer_Name\"]\n",
    "    assert df_profit_by_year_customer.columns == expected_schema\n",
    "\n",
    "    # Test case: check if the dataframe has data\n",
    "    assert df_profit_by_year_customer.select('Year', 'Customer_ID').distinct().count() == spark.sql(\"Select count(distinct Year, Customer_ID) from profit_by_year_pc_psc_customer\").collect()[0][0]\n",
    "\n",
    "test_profit_by_year_customer()"
   ]
  },
  {
   "cell_type": "code",
   "execution_count": null,
   "metadata": {
    "application/vnd.databricks.v1+cell": {
     "cellMetadata": {
      "byteLimit": 2048000,
      "rowLimit": 10000
     },
     "inputWidgets": {},
     "nuid": "d1b4b00a-84cf-42c0-a737-b182327f42b3",
     "showTitle": false,
     "title": ""
    }
   },
   "outputs": [],
   "source": []
  }
 ],
 "metadata": {
  "application/vnd.databricks.v1+notebook": {
   "dashboards": [],
   "environmentMetadata": null,
   "language": "python",
   "notebookMetadata": {
    "mostRecentlyExecutedCommandWithImplicitDF": {
     "commandId": 1845623388341956,
     "dataframes": [
      "_sqldf"
     ]
    },
    "pythonIndentUnit": 2
   },
   "notebookName": "PEI-Task",
   "widgets": {}
  },
  "language_info": {
   "name": "python"
  }
 },
 "nbformat": 4,
 "nbformat_minor": 0
}
